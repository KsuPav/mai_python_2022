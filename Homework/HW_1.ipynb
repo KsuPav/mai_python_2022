{
  "nbformat": 4,
  "nbformat_minor": 0,
  "metadata": {
    "colab": {
      "provenance": []
    },
    "kernelspec": {
      "name": "python3",
      "display_name": "Python 3"
    },
    "language_info": {
      "name": "python"
    }
  },
  "cells": [
    {
      "cell_type": "code",
      "execution_count": 1,
      "metadata": {
        "id": "jbswnRKDLxpY"
      },
      "outputs": [],
      "source": [
        "drone_list = [\"DJI Mavic 2 Pro\", \"DJI Mavic 2 Zoom\", \"DJI Mavic 2 Enterprise Advanced\", \"AUTEL Evo II Pro\", \"DJI Mini 2\", \"Autel Evo Nano\", \"Autel Evo Lite Plus\", \"Parrot Anafi\", \"Dji Inspire 2\", \"DJI Mavic 3\", \"DJI Mavic Air2s\", \"Ryze Tello\", \"Eachine Trashcan\"]\n",
        "\n",
        "drone_weight_list = [903, 900, 920, 980, 249, 249, 600, 540, 1500, 1000, 570, 130, 110]"
      ]
    },
    {
      "cell_type": "markdown",
      "source": [
        "**TODO1**\n",
        "\n",
        "выведите все дроны производителя, название которого введет пользователь через input, и подсчитайте их количество. \n",
        "учтите, что:\n",
        "1) DJI и Dji - это один и тот же производитель! такие случаи тоже должны обрабатываться\n",
        "2) при выводе исправьте название производителя, если допущена ошибка. правильный вариант названия: DJI, Autel"
      ],
      "metadata": {
        "id": "RepLvcuWL5Mc"
      }
    },
    {
      "cell_type": "code",
      "source": [
        "a = input('\\n Введите производителя дрона: \\n').lower()\n",
        "k = 0\n",
        "\n",
        "if a == 'dji':\n",
        "  b = a.upper()\n",
        "elif a == 'autel' or a == 'parrot' or a == 'ryze' or a == 'eachine':\n",
        "  b = a.title()\n",
        "\n",
        "for drone in drone_list:\n",
        "  if a in drone.lower():\n",
        "    x = len(a)+1\n",
        "    print(b, drone[x:])\n",
        "    k = k + 1\n",
        "\n",
        "if k == 0:\n",
        "  print('Таких дронов нет, либо неверное название производителя')\n",
        "\n",
        "print(f'Кол-во дронов производителя {b} : {k}')"
      ],
      "metadata": {
        "colab": {
          "base_uri": "https://localhost:8080/"
        },
        "id": "68vWFZNmLycH",
        "outputId": "8044627d-f3e3-4988-ef41-3f042bb402c0"
      },
      "execution_count": 2,
      "outputs": [
        {
          "output_type": "stream",
          "name": "stdout",
          "text": [
            "\n",
            " Введите производителя дрона: \n",
            "dji\n",
            "DJI Mavic 2 Pro\n",
            "DJI Mavic 2 Zoom\n",
            "DJI Mavic 2 Enterprise Advanced\n",
            "DJI Mini 2\n",
            "DJI Inspire 2\n",
            "DJI Mavic 3\n",
            "DJI Mavic Air2s\n",
            "Кол-во дронов производителя DJI : 7\n"
          ]
        }
      ]
    },
    {
      "cell_type": "markdown",
      "source": [
        "**TODO2**\n",
        "\n",
        "подсчитайте количество моделей дронов каждого производителя из списка drone_list. производители: DJI, Autel, Parrot, Ryze, Eachine"
      ],
      "metadata": {
        "id": "GgU3GZf5LykT"
      }
    },
    {
      "cell_type": "code",
      "source": [
        "unique_list = ['DJI', 'Autel', 'Parrot', 'Ryze', 'Eachine']\n",
        "\n",
        "for unique in unique_list:\n",
        "  k = 0\n",
        "  for drone in drone_list:\n",
        "    if unique.lower() in drone.lower():\n",
        "      #print(drone)\n",
        "      k = k + 1\n",
        "  print(f'Дронов производителя {unique}: {k}')"
      ],
      "metadata": {
        "colab": {
          "base_uri": "https://localhost:8080/"
        },
        "id": "c2OToYTvMI6l",
        "outputId": "49554b8e-4a28-427e-b13f-7dceb25eb007"
      },
      "execution_count": 3,
      "outputs": [
        {
          "output_type": "stream",
          "name": "stdout",
          "text": [
            "Дронов производителя DJI: 7\n",
            "Дронов производителя Autel: 3\n",
            "Дронов производителя Parrot: 1\n",
            "Дронов производителя Ryze: 1\n",
            "Дронов производителя Eachine: 1\n"
          ]
        }
      ]
    },
    {
      "cell_type": "markdown",
      "source": [
        "**TODO3**\n",
        "\n",
        "выведите все дроны из списка, которые нужно регистрировать (масса больше 150 г), и подсчитайте их количество. \n",
        "сделайте то же самое для всех дронов, которые не нужно регистрировать\n",
        "для этого вам нужно параллельно обрабатывать два списка: drone_list и drone_weight_list:\n",
        "как работает zip, мы разберем на лекции про списки. пока что просто пользуйтесь"
      ],
      "metadata": {
        "id": "20UuAjtnMLGE"
      }
    },
    {
      "cell_type": "code",
      "source": [
        "print('Нужно зарегистрировать:')\n",
        "k = 0\n",
        "for drone, weight in zip(drone_list,  drone_weight_list):\n",
        "  if weight > 150:\n",
        "    print(drone)\n",
        "    k = k + 1\n",
        "print('Итого:', k, '\\n')\n",
        "\n",
        "print('Не нужно регистрировать:')\n",
        "k = 0\n",
        "for drone, weight in zip(drone_list,  drone_weight_list):\n",
        "  if weight <= 150:\n",
        "    print(drone)\n",
        "    k = k + 1\n",
        "print('Итого:', k)"
      ],
      "metadata": {
        "colab": {
          "base_uri": "https://localhost:8080/"
        },
        "id": "Nc5cNE8sMRd_",
        "outputId": "fb580027-7a16-4ac9-d407-7a2cb764e214"
      },
      "execution_count": 4,
      "outputs": [
        {
          "output_type": "stream",
          "name": "stdout",
          "text": [
            "Нужно зарегистрировать:\n",
            "DJI Mavic 2 Pro\n",
            "DJI Mavic 2 Zoom\n",
            "DJI Mavic 2 Enterprise Advanced\n",
            "AUTEL Evo II Pro\n",
            "DJI Mini 2\n",
            "Autel Evo Nano\n",
            "Autel Evo Lite Plus\n",
            "Parrot Anafi\n",
            "Dji Inspire 2\n",
            "DJI Mavic 3\n",
            "DJI Mavic Air2s\n",
            "Итого: 11 \n",
            "\n",
            "Не нужно регистрировать:\n",
            "Ryze Tello\n",
            "Eachine Trashcan\n",
            "Итого: 2\n"
          ]
        }
      ]
    },
    {
      "cell_type": "markdown",
      "source": [
        "**TODO4**\n",
        "\n",
        "для каждого дрона из списка выведите, нудно ли согласовывать полет при следующих условиях:\n",
        "высота 100 м, полет над населенным пунктом, вне закрытых зон, в прямой видимости\n",
        "помните, что для дронов тяжелее 150 г согласовывать полет над населенным пунктом - обязательно!"
      ],
      "metadata": {
        "id": "yUn2BOEUMT9g"
      }
    },
    {
      "cell_type": "code",
      "source": [
        "height = 100\n",
        "in_city = True\n",
        "in_closed_zones = False\n",
        "direct_visibility = True\n",
        "\n",
        "for drone, weight in zip(drone_list,  drone_weight_list):\n",
        "  if direct_visibility and (height <= 150) and (not in_closed_zones) and ((in_city and weight < 150) or (not in_city)):\n",
        "    print(drone, ' - согласование не нужно')\n",
        "  else:\n",
        "    print(drone, ' - согласование нужно')"
      ],
      "metadata": {
        "colab": {
          "base_uri": "https://localhost:8080/"
        },
        "id": "o9Ow7rJqMXA3",
        "outputId": "524b6d4d-f3e8-4336-fb27-1ef88c3d4050"
      },
      "execution_count": 5,
      "outputs": [
        {
          "output_type": "stream",
          "name": "stdout",
          "text": [
            "DJI Mavic 2 Pro  - согласование нужно\n",
            "DJI Mavic 2 Zoom  - согласование нужно\n",
            "DJI Mavic 2 Enterprise Advanced  - согласование нужно\n",
            "AUTEL Evo II Pro  - согласование нужно\n",
            "DJI Mini 2  - согласование нужно\n",
            "Autel Evo Nano  - согласование нужно\n",
            "Autel Evo Lite Plus  - согласование нужно\n",
            "Parrot Anafi  - согласование нужно\n",
            "Dji Inspire 2  - согласование нужно\n",
            "DJI Mavic 3  - согласование нужно\n",
            "DJI Mavic Air2s  - согласование нужно\n",
            "Ryze Tello  - согласование не нужно\n",
            "Eachine Trashcan  - согласование не нужно\n"
          ]
        }
      ]
    },
    {
      "cell_type": "markdown",
      "source": [
        "**TODO5**\n",
        "\n",
        "модифицируйте решение задания TODO1:\n",
        "теперь для введенного пользователем производителя вы должны вывести строку, содержащую перечисление моделей и БЕЗ названия производителя.\n",
        "например, пользователь ввел \"Autel\". ваша программа должна вывести вот такой результат: \"Evo II Pro, Evo Nano, Evo Lite Plus\". для этого вам понадобится несколько функций работы со строками. решить эту задачу можно несколькими разными способами\n",
        "производители те же: DJI, Autel, Parrot, Ryze, Eachine"
      ],
      "metadata": {
        "id": "5H_ay1nzMZ4P"
      }
    },
    {
      "cell_type": "code",
      "source": [
        "a = input('\\n Введите производителя дрона: \\n').lower()\n",
        "\n",
        "for drone in drone_list:\n",
        "  if a in drone.lower():\n",
        "    x = len(a)+1\n",
        "    print(drone[x:])"
      ],
      "metadata": {
        "colab": {
          "base_uri": "https://localhost:8080/"
        },
        "id": "tcS3Vha0Mb80",
        "outputId": "3dece063-7fa6-4c4d-c424-ca1aad4021ce"
      },
      "execution_count": 6,
      "outputs": [
        {
          "output_type": "stream",
          "name": "stdout",
          "text": [
            "\n",
            " Введите производителя дрона: \n",
            "dji\n",
            "Mavic 2 Pro\n",
            "Mavic 2 Zoom\n",
            "Mavic 2 Enterprise Advanced\n",
            "Mini 2\n",
            "Inspire 2\n",
            "Mavic 3\n",
            "Mavic Air2s\n"
          ]
        }
      ]
    }
  ]
}